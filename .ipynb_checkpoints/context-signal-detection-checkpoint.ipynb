{
 "cells": [
  {
   "cell_type": "code",
   "execution_count": 4,
   "metadata": {},
   "outputs": [],
   "source": [
    "from utils import *"
   ]
  },
  {
   "cell_type": "markdown",
   "metadata": {},
   "source": [
    "### re-initializing context"
   ]
  },
  {
   "cell_type": "code",
   "execution_count": 28,
   "metadata": {},
   "outputs": [],
   "source": [
    "from scipy.spatial import distance \n",
    "dt = 2\n",
    "nitr = 3\n",
    "nsteps,_ = C.shape\n",
    "metric='cosine'\n",
    "\n",
    "L = [[],[]]\n",
    "for itr in range(nitr):\n",
    "  for dt in [4,9]:\n",
    "  \n",
    "    \"\"\" re-init context\"\"\"\n",
    "    C = fast_n_sphere(n_steps=20, dim=7, var=0.25, mean=0.25)[0]\n",
    "    # sample int between 0 and nsteps\n",
    "    t0 = 3 \n",
    "    # take \n",
    "    C0 = C[t0,:]\n",
    "    C1 = C[t0+dt]\n",
    "\n",
    "    dist = distance.cdist([C0],[C1],metric=metric)[0,0]\n"
   ]
  }
 ],
 "metadata": {
  "kernelspec": {
   "display_name": "Python 3",
   "language": "python",
   "name": "python3"
  },
  "language_info": {
   "codemirror_mode": {
    "name": "ipython",
    "version": 3
   },
   "file_extension": ".py",
   "mimetype": "text/x-python",
   "name": "python",
   "nbconvert_exporter": "python",
   "pygments_lexer": "ipython3",
   "version": "3.7.3"
  }
 },
 "nbformat": 4,
 "nbformat_minor": 4
}
