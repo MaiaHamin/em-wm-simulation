{
 "cells": [
  {
   "cell_type": "code",
   "execution_count": 5,
   "metadata": {},
   "outputs": [],
   "source": [
    "from utils import *\n",
    "from matplotlib import pyplot as plt\n",
    "%matplotlib inline\n",
    "import seaborn as sns\n",
    "sns.set_context('talk')\n",
    "from scipy.spatial import distance \n",
    "import itertools"
   ]
  },
  {
   "cell_type": "code",
   "execution_count": null,
   "metadata": {},
   "outputs": [],
   "source": [
    "TASK = 'nback'"
   ]
  },
  {
   "cell_type": "code",
   "execution_count": 6,
   "metadata": {},
   "outputs": [],
   "source": [
    "def sim_nback_context(set_size,delta=1,\n",
    "      nitr=1,metric='cosine',cvar=.1,cmean=.1,cdim=20,verb=False):  \n",
    "  \"\"\"\n",
    "  - generate multiple draws from context sequence\n",
    "  - calculate distance between reference context and\n",
    "  - (i)  target context    (nback)\n",
    "  - (ii) nontarget context (nback+-k)\n",
    "  return array of distances (i) & (ii)\n",
    "  \"\"\"\n",
    "  exp_size = 5\n",
    "  current_t = exp_size - 1\n",
    "  target_t = current_t - set_size\n",
    "  nontarget_t = target_t+delta\n",
    "  if verb: print('ss',set_size,'current_t',current_t,\n",
    "            'target',target_t,'nontarget',nontarget_t)\n",
    "\n",
    "  # loop vars\n",
    "  dist2targetL = []\n",
    "  dist2nontargetL = []\n",
    "  for itr in range(nitr):\n",
    "    # sample new context\n",
    "    C = fast_n_sphere(n_steps=exp_size, dim=cdim, var=cvar, mean=cmean)[0]\n",
    "    # target distance\n",
    "    dist2target_    = distance.cdist(\n",
    "      [C[current_t,:]],[C[target_t,:]],\n",
    "      metric=metric)[0]\n",
    "    # nontarget distance\n",
    "    dist2nontarget_ = distance.cdist(\n",
    "      [C[current_t,:]],[C[nontarget_t,:]],\n",
    "      metric=metric)[0]\n",
    "    # collect\n",
    "    dist2targetL.append(dist2target_)\n",
    "    dist2nontargetL.append(dist2nontarget_)\n",
    "    \n",
    "  dist2target = np.concatenate(dist2targetL)\n",
    "  dist2nontarget = np.concatenate(dist2nontargetL)\n",
    "  return dist2target,dist2nontarget\n"
   ]
  },
  {
   "cell_type": "code",
   "execution_count": 29,
   "metadata": {},
   "outputs": [],
   "source": [
    "def compute_roc(dist2target,dist2nontarget):\n",
    "  # ranges\n",
    "  lower = np.min([dist2target.min(),dist2nontarget.min()]) \n",
    "  upper = np.max([dist2target.max(),dist2nontarget.max()])\n",
    "  # histograms\n",
    "  hist_target,_ = np.histogram(dist2target,range=(lower,upper),bins=100)\n",
    "  hist_nontarget,_ = np.histogram(dist2nontarget,range=(lower,upper),bins=100)\n",
    "  # roc\n",
    "  roc_x = np.cumsum(hist_target/hist_target.sum())\n",
    "  roc_y = np.cumsum(hist_nontarget/hist_nontarget.sum())\n",
    "  return roc_x,roc_y\n",
    "\n",
    "def plt_auc_analyis(M,N,K):\n",
    "  ax = plt.gca()\n",
    "  for ss in np.arange(1,10):\n",
    "    dist2target,dist2nontarget = sim_nback_context(ss,delta=1,\n",
    "        nitr=10000,metric='cosine',cvar=N,cmean=M,cdim=K,verb=False)\n",
    "    roc_x,roc_y = compute_roc(dist2target,dist2nontarget)\n",
    "    auc = roc_y.sum()\n",
    "    ax.bar(ss,auc)\n",
    "  plt.savefig('figures/nback/auc-K{}M{}N{}.png'.format(K,M,N))\n",
    "  return None\n"
   ]
  },
  {
   "cell_type": "code",
   "execution_count": 3,
   "metadata": {},
   "outputs": [],
   "source": [
    "def plt_roc(ax,dist_target,dist_nontarget,label,idx=0):\n",
    "  \"\"\" confirm that this is an ROC\n",
    "  assuming that distance is the signal for detecting \"match\"\n",
    "  \"\"\"\n",
    "  cL = ['r','g']\n",
    "  rocx,rocy = compute_roc(dist2target,dist2nontarget)\n",
    "  ax.plot(rocx,rocy,label=label,color=cL[idx])\n",
    "  ax.plot([0,1],[0,1],c='k',ls='--')\n",
    "  return None"
   ]
  },
  {
   "cell_type": "code",
   "execution_count": 4,
   "metadata": {},
   "outputs": [],
   "source": [
    "def runexp_and_plt(M,N,K,ssL=[2,3],nitr=20000,sim_fn=sim_nback_context):\n",
    "  \"\"\" \n",
    "  given parametrization of context\n",
    "  runs 'dprime experiment' and generates plots\n",
    "  \"\"\"\n",
    "  f,axarr = plt.subplots(1,3,figsize=(20,6))\n",
    "  overlapL = []\n",
    "  for idx,ss in enumerate(ssL):\n",
    "    # run simulations\n",
    "    dist_target,dist_nontarget = sim_fn(\n",
    "      set_size=ss,\n",
    "      nitr=nitr,\n",
    "      cvar=N,cmean=M,cdim=K\n",
    "    ) \n",
    "    # plot histogtams\n",
    "    ax = axarr[idx]\n",
    "    ax.set_title(\"set-size=%i\"%ss)\n",
    "    hist_target = ax.hist(dist_target,bins=100,label='target')[0]\n",
    "    hist_nontarget = ax.hist(dist_nontarget,bins=100,label='nontarget')[0]\n",
    "    # plt hist\n",
    "    # NB flipped call fn for stern\n",
    "    plt_roc(axarr[2],dist_target,dist_nontarget,\"set-size=%i\"%ss,idx)\n",
    "  # calculate overlap difference\n",
    "  plt.legend()\n",
    "  ax.legend()\n",
    "  fig_title = \"K{}M{}N{}\".format(K,M,N)\n",
    "  plt.savefig('figures/nback/%s.png'%fig_title)\n",
    "  plt.close('all')\n",
    "  return None"
   ]
  },
  {
   "cell_type": "markdown",
   "metadata": {},
   "source": [
    "### gridsearch and plt"
   ]
  },
  {
   "cell_type": "code",
   "execution_count": null,
   "metadata": {
    "scrolled": true
   },
   "outputs": [
    {
     "name": "stdout",
     "output_type": "stream",
     "text": [
      "5 0.2 0.05\n",
      "\n",
      "5 0.2 0.1\n"
     ]
    }
   ],
   "source": [
    "## gridsearch\n",
    "ML = [0.2,0.3,0.4]\n",
    "NL = [0.05,0.1,0.2,0.3]\n",
    "KL = [5,10,20,25] \n",
    "for K,M,N in itertools.product(KL,ML,NL):\n",
    "  print(K,M,N)\n",
    "  runexp_and_plt(M,N,K,nitr=10000)\n",
    "  plt_auc_analyis(M,N,K)\n",
    "  print()"
   ]
  },
  {
   "cell_type": "code",
   "execution_count": 6,
   "metadata": {},
   "outputs": [],
   "source": [
    "\n",
    "\n",
    "# M,N = 0.2,0.2\n",
    "# ax = plt.gca()\n",
    "# for ss in [2,3,4]:\n",
    "#   dist_target,dist_nontarget = sim_nback_context(ss,nitr=1000,cvar=N,cmean=M)\n",
    "#   plt_roc(ax,dist_target,dist_nontarget,\"set-size=%i\"%ss)\n",
    "# plt.legend()"
   ]
  }
 ],
 "metadata": {
  "kernelspec": {
   "display_name": "Python 3",
   "language": "python",
   "name": "python3"
  },
  "language_info": {
   "codemirror_mode": {
    "name": "ipython",
    "version": 3
   },
   "file_extension": ".py",
   "mimetype": "text/x-python",
   "name": "python",
   "nbconvert_exporter": "python",
   "pygments_lexer": "ipython3",
   "version": "3.7.3"
  }
 },
 "nbformat": 4,
 "nbformat_minor": 4
}
