{
 "cells": [
  {
   "cell_type": "code",
   "execution_count": 1,
   "metadata": {},
   "outputs": [],
   "source": [
    "from utils import *\n",
    "from matplotlib import pyplot as plt\n",
    "%matplotlib inline\n",
    "import seaborn as sns\n",
    "sns.set_context('talk')\n",
    "from scipy.spatial import distance \n",
    "import itertools"
   ]
  },
  {
   "cell_type": "code",
   "execution_count": 2,
   "metadata": {},
   "outputs": [],
   "source": [
    "def sim_nback_context(set_size,delta=1,nitr=1,metric='cosine',cvar=.1,cmean=.1,cdim=20,verb=False):  \n",
    "  \"\"\" \n",
    "  simulations focus on context distance (similarity = EM)\n",
    "  delta controls nontarget distribution\n",
    "  \"\"\"\n",
    "  exp_size = 5\n",
    "  current_t = exp_size - 1\n",
    "  target_t = current_t - set_size\n",
    "  nontarget_t = target_t+delta\n",
    "  if verb:\n",
    "    print('ss',set_size,'current_t',current_t,\n",
    "          'target',target_t,'nontarget',nontarget_t)\n",
    "\n",
    "  # loop vars\n",
    "  dist2targetL = []\n",
    "  dist2nontargetL = []\n",
    "  for itr in range(nitr):\n",
    "    C = fast_n_sphere(n_steps=exp_size, dim=cdim, var=cvar, mean=cmean)[0]\n",
    "    # current_t,target_t,non_target_t\n",
    "    dist2target_ = distance.cdist([C[current_t,:]],[C[target_t,:]],metric=metric)[0]\n",
    "    dist2nontarget_ = distance.cdist([C[current_t,:]],[C[nontarget_t,:]],metric=metric)[0]\n",
    "    dist2targetL.append(dist2target_)\n",
    "    dist2nontargetL.append(dist2nontarget_)\n",
    "    \n",
    "  dist2target = np.concatenate(dist2targetL)\n",
    "  dist2nontarget = np.concatenate(dist2nontargetL)\n",
    "  return dist2target,dist2nontarget\n"
   ]
  },
  {
   "cell_type": "code",
   "execution_count": 3,
   "metadata": {},
   "outputs": [],
   "source": [
    "def score_condition(dist_target,dist_nontarget):\n",
    "  \"\"\" overlap \"\"\"\n",
    "  assert len(dist_target) == len(dist_nontarget)\n",
    "  lower = np.min([dist_target.min(),dist_nontarget.min()]) \n",
    "  upper = np.max([dist_target.max(),dist_nontarget.max()]) \n",
    "  hist_target = np.histogram(dist_target,range=(lower,upper),bins=100)[0]\n",
    "  hist_nontarget = np.histogram(dist_nontarget,range=(lower,upper),bins=100)[0]\n",
    "  # hist overlap\n",
    "  overlap = np.min([hist_target,hist_nontarget],axis=0).sum() \n",
    "  if overlap == 0:\n",
    "    return overlap\n",
    "  else:\n",
    "    return overlap/np.sum(hist_target)\n",
    "\n",
    "# dist_target,dist_nontarget = sim_nback_context(\n",
    "#   set_size=3,nitr=1000,verb=True,cvar=.05,cmean=.3,cdim=5)\n",
    "# score_condition(dist_target,dist_nontarget)"
   ]
  },
  {
   "cell_type": "code",
   "execution_count": 4,
   "metadata": {},
   "outputs": [],
   "source": [
    "def plt_roc(ax,dist_target,dist_nontarget,label):\n",
    "  lower = np.min([dist_target.min(),dist_nontarget.min()]) \n",
    "  upper = np.max([dist_target.max(),dist_nontarget.max()]) \n",
    "  hist_target = np.histogram(dist_target,range=(lower,upper),bins=100)[0]\n",
    "  hist_nontarget = np.histogram(dist_nontarget,range=(lower,upper),bins=100)[0]\n",
    "  ax.plot(\n",
    "    np.cumsum(hist_target/hist_target.sum()),\n",
    "    np.cumsum(hist_nontarget/hist_nontarget.sum()),\n",
    "    label=label\n",
    "             )\n",
    "  ax.plot([0,1],[0,1],c='k',ls='--')\n",
    "  return None"
   ]
  },
  {
   "cell_type": "code",
   "execution_count": 7,
   "metadata": {},
   "outputs": [],
   "source": [
    "def runexp_and_plt(M,N,K,ssL=[2,3],nitr=20000,sim_fn=sim_nback_context):\n",
    "  \"\"\" \n",
    "  given parametrization of context\n",
    "  runs experiments and generates histogram plots\n",
    "  \"\"\"\n",
    "  f,axarr = plt.subplots(1,3,figsize=(20,6))\n",
    "  scoreL = []\n",
    "  for idx,ss in enumerate(ssL):\n",
    "    ax = axarr[idx]\n",
    "    # run simulations\n",
    "    dist_target,dist_nontarget = sim_fn(\n",
    "      set_size=ss,nitr=nitr,\n",
    "      cvar=N,cmean=M,cdim=K\n",
    "    ) \n",
    "    # plot histogtams\n",
    "    hist_target = ax.hist(dist_target,bins=100)[0]\n",
    "    hist_nontarget = ax.hist(dist_nontarget,bins=100)[0]\n",
    "    # plot roc\n",
    "    plt_roc(axarr[2],dist_target,dist_nontarget,\"set-size=%i\"%ss)\n",
    "    # calculate overlap\n",
    "    score = score_condition(dist_target,dist_nontarget)\n",
    "    ax_title = 'ss=',ss,'overlap %.2f'%(score)\n",
    "    ax.set_title(ax_title)\n",
    "    scoreL.append(score)\n",
    "  plt.legend()\n",
    "  fig_title = \"K{}M{}N{}\".format(K,M,N)\n",
    "  plt.savefig('figures/nback/%s.png'%fig_title)\n",
    "  plt.close('all')\n",
    "  return None"
   ]
  },
  {
   "cell_type": "code",
   "execution_count": null,
   "metadata": {
    "scrolled": true
   },
   "outputs": [
    {
     "name": "stdout",
     "output_type": "stream",
     "text": [
      "5 0.2 0.05\n",
      "\n",
      "5 0.2 0.1\n"
     ]
    }
   ],
   "source": [
    "ML = [0.2,0.3,0.4]\n",
    "NL = [0.05,0.1,0.2,0.3]\n",
    "KL = [5,10,20,25] \n",
    "for K,M,N in itertools.product(KL,ML,NL):\n",
    "  print(K,M,N)\n",
    "  runexp_and_plt(M,N,K,nitr=10000)\n",
    "  print()"
   ]
  },
  {
   "cell_type": "code",
   "execution_count": null,
   "metadata": {},
   "outputs": [],
   "source": [
    "\n",
    "\n",
    "# M,N = 0.2,0.2\n",
    "# ax = plt.gca()\n",
    "# for ss in [2,3,4]:\n",
    "#   dist_target,dist_nontarget = sim_nback_context(ss,nitr=1000,cvar=N,cmean=M)\n",
    "#   plt_roc(ax,dist_target,dist_nontarget,\"set-size=%i\"%ss)\n",
    "# plt.legend()"
   ]
  }
 ],
 "metadata": {
  "kernelspec": {
   "display_name": "Python 3",
   "language": "python",
   "name": "python3"
  },
  "language_info": {
   "codemirror_mode": {
    "name": "ipython",
    "version": 3
   },
   "file_extension": ".py",
   "mimetype": "text/x-python",
   "name": "python",
   "nbconvert_exporter": "python",
   "pygments_lexer": "ipython3",
   "version": "3.7.3"
  }
 },
 "nbformat": 4,
 "nbformat_minor": 4
}
